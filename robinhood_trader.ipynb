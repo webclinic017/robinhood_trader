#%%
import robin_stocks as r
import sys
import config
import datetime as dt
import time
import pyotp
import pandas as pd
import numpy as np
import yfinance as y
import ta
import warnings
import pytz
# import ta
from pandas_datareader import data as web
import matplotlib.pyplot as plt
import scipy.stats as si
import sympy as sy
from sympy.stats import Normal, cdf
from sympy import init_printing


#%%
login = loginer()
#%%

# Functions
def get_stocks():
    stocks = list()
    stocks.append('PLTR')
    stocks.append('NIO')
    stocks.append('AAPL')
    return (stocks)

def quote(ticker):
    ro = r.get_latest_price(ticker)
    print(ticker.upper() + ": $" + str(ro[0]))

def buy_exact(ticker, amount):
    ro = r.order_buy_market(ticker, amount)
    print(ro)

def sell_exact(ticker, amount):
    ro = r.order_sell_market(ticker, amount)
    print(ro)

def open_market():
    market = False
    tz = pytz.timezone('America/Los_Angeles')
    time_now = dt.datetime.now(tz).time()
    
    market_open = dt.time(6,0,0)
    market_close = dt.time(13,29,0)
    
    if time_now > market_open and time_now < market_close:
        market = True
    else:
        pass
    return market

def latest_price(name):
    return r.stocks.get_latest_price(name)[0]

# Returns a dataframe of options available from the start day to
# end day
def options_within_days(options, start, end):
    tz = pytz.timezone('America/Los_Angeles')
    time_now = dt.datetime.now(tz).time()
    start_date = (dt.datetime.combine(dt.date(2021,1,1),time_now)+dt.timedelta(start))
    end_date = (dt.datetime.combine(dt.date(2021,1,1),time_now)+dt.timedelta(end))
    dates = [start_date + dt.timedelta(days=x) for x in range(0, (end_date-start_date).days)]
    list_of_dates = []
    for d in dates:
        list_of_dates.append(d.strftime("%Y-%m-%d"))
    new_df = df[df['expiration_date'].isin(list_of_dates)].reset_index(drop=True)
    return new_df.sort_values(by='expiration_date')

# Gets the options for a range of days, start from 0 if you want the immediate result
# result. You have to pass the number of days in Integer
def get_option(name, start=0, end=1000):
    data = r.options.find_tradable_options(name)
    df = pd.DataFrame(data)
#     print(df)
    return options_within_days(df, start, end)

# Information about the stocks specific group
def stock_info(inp, start= starting, end=ending, grp ='Open'):
    if grp == 'Open':
        return y.download(inp, start=start, end=end).Open
    elif grp == 'High':
        return y.download(inp, start=start, end=end).High
    elif grp == 'Low':
        return y.download(inp, start=start, end=end).Low
    elif grp == 'Close':
        return y.download(inp, start=start, end=end).Close
    elif grp == 'Volume':
        return y.download(inp, start=start, end=end).Volume

# Plots and normalize the data for multiple stocks
# For a stock to be included, the starting date must be available/the same

def multi_plotter(inp, start= starting, end=ending, grp='Open'):
    curr = stock_info(inp, start, end, grp)
    # Normalizes the plots so they start from the same spot
    fig = (curr/curr.iloc[0]*100).plot(figsize=(20,10))
    plt.legend()
    return fig

# Returns a dataframe of all the stocks history from yahoo finance API
# It takes a start and end date which lets you select the interval you want
# the information from
# Its result are daily and the prices shown are during the market hours
def history(inp,start='1800-01-01',end='2800-01-01'):
    return y.download(inp, start=start, end=end, group_by='tickers')

# Returns the most available detialed information of the last 59 days in
# a dataframe. It takes a list of inputs
def history_last_sixty(inp):
    current_frames = []
    for i in inp:
        tick = y.Ticker(i)
        df = tick.history(period='59d', interval='15m')
        current_frames.append(df)
    return pd.concat(current_frames, axis=1, keys=inp)

# Logins, use your username and password, in future will try to make this
# a file processing function
def loginer():
    totp  = pyotp.TOTP("My2factorAppHere").now()
    login = r.login('YOURUSERNAME', 'YOURPASSWORD', mfa_code=totp)
    return login

#%%

# Functions for trading and calculating value of Options
# Euro Vanilla is tested, however black scholes is not. (Tested with arbitrary values)
###### I've looked into Yahoo Finance and they might offer more information, so I might do caculations
######      using the data from YFinance, if I couldn't get proper/good results I will try to continue 
######      and write functions to calculate the necessary parameters for each of the calculating
######      functions


# Euro Vanilla call for stocks that don't offer dividends
# Returns a percentage that this stock might likely profit, the default return value is call profit
def euro_vanilla(spot_price, strike_price, time_to_expire, interest_rate, sigma, option='call'):
    share1 = (np.log(spot_price/strike_price) + (interest_rate + 0.5 * sigma ** 2) * time_to_expire) / (sigma * np.sqrt(time_to_expire))
    share2 = (np.log(spot_price/strike_price) + (interest_rate - 0.5 * sigma ** 2) * time_to_expire) / (sigma * np.sqrt(time_to_expire))
    
    if option == 'call':
        ans = (spot_price * si.norm.cdf(share1, 0.0, 1.0) -strike_price *np.exp(-interest_rate * time_to_expire) * si.norm.cdf(share2))
    else:
        ans = (strike_price * np.exp(-interest_rate * time_to_expire) * si.norm.cdf(-share2, 0.0, 1.0) - spot_price * si.norm.cdf(-share1, 0.0,1.0))
    return ans

# Black Scholes Call profit calculation 
def black_scholes(spot_price, strike_price, time_to_expire, interest_rate, rate_dividend, sigma, option='call'):
    share1 = (np.log(spot_price/strike_price)+(interest_rate - rate_dividend + 0.5 * sigma ** 2) * time_to_expire) / (sigma * np.sqrt(time_to_expire))
    share2 = (np.log(spot_price/strike_price)+(interest_rate - rate_dividend - 0.5 * sigma ** 2) * time_to_expire) / (sigma * np.sqrt(time_to_expire))
    
    if option == 'call':
        ans = (spot_price * np.exp(-rate_dividend * time_to_expire) * si.norm.cdf(share1,0.0,1.0) - strike_price * np.exp(-interest_rate * time_to_expire) *si.norm.cdf(share2, 0.0, 1.0))
    else:
        ans = (strike_price * np.exp(-interest_rate * time_to_expire) * si.norm.cdf(-share2,0.0,1.0) - spot_price * np.exp(-rate_dividend * time_to_expire) *si.norm.cdf(-share1, 0.0, 1.0))
    return ans

#%%
aa=history(get_stocks(), '2020-10-10', '2020-12-12')
