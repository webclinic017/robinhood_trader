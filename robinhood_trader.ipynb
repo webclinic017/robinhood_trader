#%%
import robin_stocks as r
import sys
import config
import datetime as dt
import time
import pyotp
import pandas as pd
import yfinance as y
import ta
import warnings
import pytz
from pandas_datareader import data as web
import matplotlib.pyplot as plt

#%%
login = loginer()
#%%
# Functions
def get_stocks():
    stocks = list()
    stocks.append('PLTR')
    stocks.append('NIO')
    stocks.append('AAPL')
    return (stocks)

def quote(ticker):
    ro = r.get_latest_price(ticker)
    print(ticker.upper() + ": $" + str(ro[0]))

def buy_exact(ticker, amount):
    ro = r.order_buy_market(ticker, amount)
    print(ro)

def sell_exact(ticker, amount):
    ro = r.order_sell_market(ticker, amount)
    print(ro)

def open_market():
    market = False
    tz = pytz.timezone('America/Los_Angeles')
    time_now = dt.datetime.now(tz).time()
    
    market_open = dt.time(6,0,0)
    market_close = dt.time(13,29,0)
    
    if time_now > market_open and time_now < market_close:
        market = True
    else:
        pass
    return market

def latest_price(name):
    return r.stocks.get_latest_price(name)[0]

# Returns a dataframe of options available from the start day to
# end day
def options_within_days(options, start, end):
    tz = pytz.timezone('America/Los_Angeles')
    time_now = dt.datetime.now(tz).time()
    start_date = (dt.datetime.combine(dt.date(2021,1,1),time_now)+dt.timedelta(start))
    end_date = (dt.datetime.combine(dt.date(2021,1,1),time_now)+dt.timedelta(end))
    dates = [start_date + dt.timedelta(days=x) for x in range(0, (end_date-start_date).days)]
    list_of_dates = []
    for d in dates:
        list_of_dates.append(d.strftime("%Y-%m-%d"))
    new_df = df[df['expiration_date'].isin(list_of_dates)].reset_index(drop=True)
    return new_df

# Gets the options for a range of days, start from 0 if you want the immediate result
# result
def get_option(name, start, end):
    data = r.options.find_tradable_options(name)
    df = pd.DataFrame(data)
    return options_within_days(df, start, end)

# Returns a dataframe of all the stocks history from yahoo finance API
# It takes a start and end date which lets you select the interval you want
# the information from
# Its result are daily and the prices shown are during the market hours
def history(inp,start,end):
    return y.download(inp, start=start, end=end, group_by='tickers')

# Returns the most available detialed information of the last 59 days in
# a dataframe
def history_last_sixty(inp):
    current_frames = []
    for i in inp:
        tick = y.Ticker(i)
        df = tick.history(period='59d', interval='15m')
        df['name'] = [i] * len(df)
        cols = df.columns.tolist()
        cols = cols[-1:] + cols[:-1]
        current_frames.append(df[cols])
    temp = pd.concat(current_frames, axis=1)
    return temp

def loginer():
    totp  = pyotp.TOTP("My2factorAppHere").now()
    login = r.login('YOURUSERNAME', 'YOURPASSWORD', mfa_code=totp)
    return login
#%%
aa=history(get_stocks(), '2020-10-10', '2020-12-12')
